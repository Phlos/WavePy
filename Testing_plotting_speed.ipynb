{
 "cells": [
  {
   "cell_type": "markdown",
   "metadata": {},
   "source": [
    "# Testing the speed of various plotting methods\n",
    "\n",
    "In the context of wavepy runtime plotting."
   ]
  },
  {
   "cell_type": "code",
   "execution_count": null,
   "metadata": {},
   "outputs": [],
   "source": [
    "import numpy as np                    # maths toolbox\n",
    "import matplotlib.pyplot as plt       # plotting toolbox\n",
    "\n",
    "from WavePyClasses import Grid, Model, HomogeneousModel, Source, Receiver, plot_field\n"
   ]
  },
  {
   "cell_type": "markdown",
   "metadata": {},
   "source": [
    "## Random array plotting"
   ]
  },
  {
   "cell_type": "code",
   "execution_count": null,
   "metadata": {},
   "outputs": [],
   "source": [
    "arr = np.random.randint(0,10, (15,15))\n",
    "arr"
   ]
  },
  {
   "cell_type": "code",
   "execution_count": null,
   "metadata": {},
   "outputs": [],
   "source": [
    "arr[::2,::2]"
   ]
  },
  {
   "cell_type": "code",
   "execution_count": null,
   "metadata": {},
   "outputs": [],
   "source": [
    "gridje = Grid(200e3, 100e3, 400, 400)\n",
    "arrbig = np.random.randint(0,10, gridje.X.shape)"
   ]
  },
  {
   "cell_type": "code",
   "execution_count": null,
   "metadata": {},
   "outputs": [],
   "source": [
    "%timeit plot_field(gridje, arrbig, draw=True, verbose=False)"
   ]
  },
  {
   "cell_type": "markdown",
   "metadata": {},
   "source": [
    "## Testing wavefield plotting"
   ]
  },
  {
   "cell_type": "code",
   "execution_count": null,
   "metadata": {},
   "outputs": [],
   "source": [
    "import WaveProp as waveprop"
   ]
  },
  {
   "cell_type": "markdown",
   "metadata": {},
   "source": [
    "### Set up simulation"
   ]
  },
  {
   "cell_type": "code",
   "execution_count": null,
   "metadata": {},
   "outputs": [],
   "source": [
    "# Setting up the model domain:\n",
    "\n",
    "Lx = 100e3 # horizontal length of the model in metres\n",
    "Lz = 60e3 # vertical depth of the model in metres\n",
    "\n",
    "dx = 400.  # horizontal grid spacing [m]\n",
    "dz = 400.  # vertical grid spacing [m]\n",
    "\n",
    "grid = Grid(Lx, Lz, dx, dz)"
   ]
  },
  {
   "cell_type": "code",
   "execution_count": null,
   "metadata": {},
   "outputs": [],
   "source": [
    "# make model\n",
    "\n",
    "rho = 2600 # density in kg/m^3\n",
    "vp  = 5800 # P velocity in m/s\n",
    "vs  = 3200 # S velocity in m/s\n",
    "\n",
    "# make a model out of the supplied values\n",
    "model = HomogeneousModel(grid, rho=rho, vp=vp, vs=vs)"
   ]
  },
  {
   "cell_type": "code",
   "execution_count": null,
   "metadata": {},
   "outputs": [],
   "source": [
    "# make source/rec\n",
    "\n",
    "src = Source(loc_x=40e3, loc_z=30e3) \n",
    "rec = Receiver(loc_x=60e3, loc_z=30e3)\n",
    "\n",
    "# set src timing\n",
    "\n",
    "src.set_time(t_max=8., dt=0.03)\n",
    "\n",
    "src.set_stf(\n",
    "    src_type='ricker',\n",
    "    src_direction = (1,0),\n",
    "    t_0 = 2.5,\n",
    "    tau = 4,\n",
    ")\n",
    "\n",
    "print(src)\n",
    "print(rec)"
   ]
  },
  {
   "cell_type": "code",
   "execution_count": null,
   "metadata": {},
   "outputs": [],
   "source": [
    "# put all the absorbing boundary info into a Python dictionary\n",
    "\n",
    "absorbing_boundaries = {\n",
    "    'left': 25e3,\n",
    "    'right': 25e3,\n",
    "    'bottom': 25e3 \n",
    "    }"
   ]
  },
  {
   "cell_type": "markdown",
   "metadata": {},
   "source": [
    "### Run single simulation to get `fw_fields`"
   ]
  },
  {
   "cell_type": "code",
   "execution_count": null,
   "metadata": {},
   "outputs": [],
   "source": [
    "%matplotlib notebook\n",
    "\n",
    "receivers, fw_fields = waveprop.run_waveprop(\n",
    "    src, rec, model, absorbing_boundaries, \n",
    "    plot_wavefield=True, plot_wavefield_every=40,\n",
    "    store_forward_fields=True,\n",
    "    verbose=True,\n",
    "    half_grid=True, plot_contours=True,\n",
    "    levels=20,\n",
    ")"
   ]
  },
  {
   "cell_type": "markdown",
   "metadata": {},
   "source": [
    "### Plot one fw_field in different ways"
   ]
  },
  {
   "cell_type": "code",
   "execution_count": null,
   "metadata": {},
   "outputs": [],
   "source": [
    "src_amp = [np.linalg.norm((x,z)) for x,z in zip(src.stf.x, src.stf.z)]\n",
    "cmaks = 1e-12*np.max(src_amp)"
   ]
  },
  {
   "cell_type": "code",
   "execution_count": null,
   "metadata": {},
   "outputs": [],
   "source": [
    "%matplotlib inline\n",
    "\n",
    "plt.close('all')\n",
    "plot_field(grid, fw_fields['ux_fw'][20], cmaks=cmaks);\n",
    "plot_field(grid, fw_fields['ux_fw'][20], cmaks=cmaks, half_grid=True);\n",
    "plot_field(grid, fw_fields['ux_fw'][20], cmaks=cmaks, plot_contours=True, levels=14, colorbar=True);\n",
    "plot_field(grid, fw_fields['ux_fw'][20], cmaks=cmaks, plot_contours=True, levels=30, colorbar=True);\n",
    "plot_field(grid, fw_fields['ux_fw'][20], cmaks=cmaks, plot_contours=True, levels=50, colorbar=True);\n"
   ]
  },
  {
   "cell_type": "markdown",
   "metadata": {},
   "source": [
    "### Timing of a single fw_field plotting\n",
    "\n",
    "matplotlib inline"
   ]
  },
  {
   "cell_type": "code",
   "execution_count": null,
   "metadata": {},
   "outputs": [],
   "source": [
    "%matplotlib inline\n",
    "%timeit plot_field(grid, fw_fields['ux_fw'][20], cmaks=cmaks); plt.show(); plt.close('all')\n",
    "%timeit plot_field(grid, fw_fields['ux_fw'][20], cmaks=cmaks, half_grid=True); plt.show(); plt.close('all')\n",
    "%timeit plot_field(grid, fw_fields['ux_fw'][20], cmaks=cmaks, plot_contours=True, levels=14); plt.show(); plt.close('all')\n",
    "%timeit plot_field(grid, fw_fields['ux_fw'][20], cmaks=cmaks, plot_contours=True, levels=30); plt.show(); plt.close('all')\n",
    "%timeit plot_field(grid, fw_fields['ux_fw'][20], cmaks=cmaks, plot_contours=True, levels=50); plt.show(); plt.close('all')"
   ]
  },
  {
   "cell_type": "markdown",
   "metadata": {},
   "source": [
    "#### Different levels of contours, with and without interpolating\n",
    "\n",
    "They look the same to me."
   ]
  },
  {
   "cell_type": "code",
   "execution_count": null,
   "metadata": {},
   "outputs": [],
   "source": [
    "%matplotlib inline\n",
    "print('normal')\n",
    "plot_field(grid, fw_fields['ux_fw'][20], cmaks=cmaks, plot_contours=True, levels=14, colorbar=True); plt.show()\n",
    "print('interp\\'d')\n",
    "plot_field(grid, fw_fields['ux_fw'][20], cmaks=cmaks, plot_contours=True, levels=14, colorbar=True, half_grid=True); plt.show()\n",
    "print('normal')\n",
    "plot_field(grid, fw_fields['ux_fw'][20], cmaks=cmaks, plot_contours=True, levels=30, colorbar=True); plt.show()\n",
    "print('interp\\'d')\n",
    "plot_field(grid, fw_fields['ux_fw'][20], cmaks=cmaks, plot_contours=True, levels=30, colorbar=True, half_grid=True); plt.show()"
   ]
  },
  {
   "cell_type": "markdown",
   "metadata": {},
   "source": [
    "### Timing of a full simulation for different plotting options"
   ]
  },
  {
   "cell_type": "code",
   "execution_count": null,
   "metadata": {},
   "outputs": [],
   "source": [
    "%matplotlib notebook"
   ]
  },
  {
   "cell_type": "markdown",
   "metadata": {},
   "source": [
    "#### Original"
   ]
  },
  {
   "cell_type": "code",
   "execution_count": null,
   "metadata": {},
   "outputs": [],
   "source": [
    "%%timeit \n",
    "receivers, fw_fields = waveprop.run_waveprop(\n",
    "    src, rec, model, absorbing_boundaries, \n",
    "    plot_wavefield=True, plot_wavefield_every=40,\n",
    "    store_forward_fields=True,\n",
    "    verbose=True,\n",
    "    half_grid=False, plot_contours=False,\n",
    ");\n",
    "plt.show()"
   ]
  },
  {
   "cell_type": "markdown",
   "metadata": {},
   "source": [
    "#### half grid\n",
    "\n",
    "Looks kinda ugly."
   ]
  },
  {
   "cell_type": "code",
   "execution_count": null,
   "metadata": {},
   "outputs": [],
   "source": [
    "%%timeit \n",
    "receivers, fw_fields = waveprop.run_waveprop(\n",
    "    src, rec, model, absorbing_boundaries, \n",
    "    plot_wavefield=True, plot_wavefield_every=40,\n",
    "    store_forward_fields=True,\n",
    "    verbose=True,\n",
    "    half_grid=True, plot_contours=False,\n",
    ");\n",
    "plt.show()"
   ]
  },
  {
   "cell_type": "markdown",
   "metadata": {},
   "source": [
    "#### contours=30"
   ]
  },
  {
   "cell_type": "code",
   "execution_count": null,
   "metadata": {},
   "outputs": [],
   "source": [
    "%%timeit \n",
    "receivers, fw_fields = waveprop.run_waveprop(\n",
    "    src, rec, model, absorbing_boundaries, \n",
    "    plot_wavefield=True, plot_wavefield_every=40,\n",
    "    store_forward_fields=True,\n",
    "    verbose=True,\n",
    "    half_grid=False, plot_contours=True,\n",
    "    levels=30,\n",
    ");\n",
    "plt.show()"
   ]
  },
  {
   "cell_type": "markdown",
   "metadata": {},
   "source": [
    "#### contours=50"
   ]
  },
  {
   "cell_type": "code",
   "execution_count": null,
   "metadata": {},
   "outputs": [],
   "source": [
    "%%timeit \n",
    "receivers, fw_fields = waveprop.run_waveprop(\n",
    "    src, rec, model, absorbing_boundaries, \n",
    "    plot_wavefield=True, plot_wavefield_every=40,\n",
    "    store_forward_fields=True,\n",
    "    verbose=True,\n",
    "    half_grid=False, plot_contours=True,\n",
    "    levels=50,\n",
    ");\n",
    "plt.show();"
   ]
  },
  {
   "cell_type": "markdown",
   "metadata": {},
   "source": [
    "#### Contours=30; half grid"
   ]
  },
  {
   "cell_type": "code",
   "execution_count": null,
   "metadata": {},
   "outputs": [],
   "source": [
    "%%timeit \n",
    "receivers, fw_fields = waveprop.run_waveprop(\n",
    "    src, rec, model, absorbing_boundaries, \n",
    "    plot_wavefield=True, plot_wavefield_every=40,\n",
    "    store_forward_fields=True,\n",
    "    verbose=True,\n",
    "    half_grid=True,\n",
    "    plot_contours=True, levels=30,\n",
    ");\n",
    "plt.show()"
   ]
  },
  {
   "cell_type": "markdown",
   "metadata": {},
   "source": [
    " "
   ]
  }
 ],
 "metadata": {
  "kernelspec": {
   "display_name": "Python 3",
   "language": "python",
   "name": "python3"
  },
  "language_info": {
   "codemirror_mode": {
    "name": "ipython",
    "version": 3
   },
   "file_extension": ".py",
   "mimetype": "text/x-python",
   "name": "python",
   "nbconvert_exporter": "python",
   "pygments_lexer": "ipython3",
   "version": "3.6.11"
  }
 },
 "nbformat": 4,
 "nbformat_minor": 4
}
