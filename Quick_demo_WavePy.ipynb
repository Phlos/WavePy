{
 "cells": [
  {
   "cell_type": "markdown",
   "metadata": {},
   "source": [
    "# Quick demo of the wave propagation code `WavePy`\n",
    "\n",
    "A small notebook to demonstrate a few features. This will create a P-wave sensitivity kernel."
   ]
  },
  {
   "cell_type": "code",
   "execution_count": null,
   "metadata": {},
   "outputs": [],
   "source": [
    "import numpy as np                    # maths toolbox\n",
    "import matplotlib.pyplot as plt       # plotting toolbox\n",
    "from time import sleep\n",
    "\n",
    "from WavePyClasses import Grid, Model, HomogeneousModel, Source, Receiver#, plot_kernels\n"
   ]
  },
  {
   "cell_type": "markdown",
   "metadata": {},
   "source": [
    "## Set up model"
   ]
  },
  {
   "cell_type": "code",
   "execution_count": null,
   "metadata": {},
   "outputs": [],
   "source": [
    "# Setting up the model domain:\n",
    "\n",
    "Lx = 100e3 # horizontal length of the model in metres\n",
    "Lz = 60e3 # vertical depth of the model in metres\n",
    "\n",
    "dx = 400.  # horizontal grid spacing [m]\n",
    "dz = 400.  # vertical grid spacing [m]\n",
    "\n",
    "grid = Grid(Lx, Lz, dx, dz)"
   ]
  },
  {
   "cell_type": "code",
   "execution_count": null,
   "metadata": {},
   "outputs": [],
   "source": [
    "# make model\n",
    "\n",
    "rho = 2600 # density in kg/m^3\n",
    "vp  = 5800 # P velocity in m/s\n",
    "vs  = 3200 # S velocity in m/s\n",
    "\n",
    "# make a model out of the supplied values\n",
    "model = HomogeneousModel(grid, rho=rho, vp=vp, vs=vs)\n",
    "\n",
    "model.plot_model()"
   ]
  },
  {
   "cell_type": "markdown",
   "metadata": {},
   "source": [
    "## Set up source and receiver"
   ]
  },
  {
   "cell_type": "code",
   "execution_count": null,
   "metadata": {},
   "outputs": [],
   "source": [
    "# make source/rec\n",
    "\n",
    "src = Source(loc_x=40e3, loc_z=30e3) \n",
    "rec = Receiver(loc_x=60e3, loc_z=30e3)\n",
    "\n",
    "# set src timing\n",
    "\n",
    "src.set_time(t_max=8., dt=0.03)\n",
    "\n",
    "src.set_stf(\n",
    "    src_type='ricker',\n",
    "    src_direction = (1,0),\n",
    "    t_0 = 2.5,\n",
    "    tau = 4,\n",
    ")\n",
    "\n",
    "print(src)\n",
    "print(rec)"
   ]
  },
  {
   "cell_type": "markdown",
   "metadata": {},
   "source": [
    "## Run wave propagation"
   ]
  },
  {
   "cell_type": "code",
   "execution_count": null,
   "metadata": {},
   "outputs": [],
   "source": [
    "import WaveProp as waveprop"
   ]
  },
  {
   "cell_type": "code",
   "execution_count": null,
   "metadata": {},
   "outputs": [],
   "source": [
    "# put all the absorbing boundary info into a Python dictionary\n",
    "\n",
    "absorbing_boundaries = {\n",
    "    'left': 25e3,\n",
    "    'right': 25e3,\n",
    "    'bottom': 25e3 \n",
    "    }"
   ]
  },
  {
   "cell_type": "code",
   "execution_count": null,
   "metadata": {},
   "outputs": [],
   "source": [
    "%matplotlib notebook\n",
    "# run the wave propagation\n",
    "receivers, fw_fields = waveprop.run_waveprop(\n",
    "    src, rec, model, absorbing_boundaries, \n",
    "    plot_wavefield=True, plot_wavefield_every=40,\n",
    "    store_forward_fields=True,\n",
    "    verbose=True)"
   ]
  },
  {
   "cell_type": "code",
   "execution_count": null,
   "metadata": {},
   "outputs": [],
   "source": [
    "%matplotlib inline\n",
    "receivers[0].plot_seismogram()"
   ]
  },
  {
   "cell_type": "markdown",
   "metadata": {},
   "source": [
    "## Pick measurement window and create adjoint source"
   ]
  },
  {
   "cell_type": "code",
   "execution_count": null,
   "metadata": {},
   "outputs": [],
   "source": [
    "# define the window pick\n",
    "\n",
    "component_of_window_selection = ['x']\n",
    "# Fill in these values\n",
    "window_start = 3.5\n",
    "window_end   = 7.5\n",
    "\n",
    "pick = {}\n",
    "pick['component'] = component_of_window_selection\n",
    "pick['times'] = [window_start, window_end]\n",
    "print('window goes from {} to {} s'.format(pick['times'][0], pick['times'][1]))\n",
    "\n",
    "receivers_Pwave = waveprop.make_adjoint_source(receivers, pick, plot=3)"
   ]
  },
  {
   "cell_type": "markdown",
   "metadata": {},
   "source": [
    "## Compute sensitivity kernels"
   ]
  },
  {
   "cell_type": "code",
   "execution_count": null,
   "metadata": {},
   "outputs": [],
   "source": [
    "%matplotlib notebook\n",
    "kernels_Pwave = waveprop.run_waveprop(\n",
    "    src, receivers_Pwave, model, absorbing_boundaries,\n",
    "    simulation_mode='adjoint', forward_fields= fw_fields, \n",
    "    plot_wavefield=True, plot_wavefield_every = 40, \n",
    "    verbose = True)"
   ]
  },
  {
   "cell_type": "code",
   "execution_count": null,
   "metadata": {},
   "outputs": [],
   "source": [
    "%matplotlib inline\n",
    "kernels_Pwave.plot_kernels(\n",
    "    mode='relative',\n",
    "    model=model, \n",
    "    source=src, receiver=receivers_Pwave[0], \n",
    "    plot_Fresnel_zone=True,\n",
    ")"
   ]
  },
  {
   "cell_type": "markdown",
   "metadata": {},
   "source": [
    " "
   ]
  }
 ],
 "metadata": {
  "kernelspec": {
   "display_name": "Python 3",
   "language": "python",
   "name": "python3"
  },
  "language_info": {
   "codemirror_mode": {
    "name": "ipython",
    "version": 3
   },
   "file_extension": ".py",
   "mimetype": "text/x-python",
   "name": "python",
   "nbconvert_exporter": "python",
   "pygments_lexer": "ipython3",
   "version": "3.6.10"
  }
 },
 "nbformat": 4,
 "nbformat_minor": 4
}
