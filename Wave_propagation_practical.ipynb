{
 "cells": [
  {
   "cell_type": "markdown",
   "metadata": {},
   "source": [
    "# Wave propagation & waveform tomography\n",
    "\n",
    "*Note: this practical is made for Earth Science Part II students in Cambridge. Assumptions about prior knowledge have been made accordingly.*\n",
    "\n",
    "Previously, you have worked with the premise that earthquakes emit 'rays' of seismic signal, that travel along an infinitesimally narrow path from source to receiver. This *ray theory* stems from geometric optics, and has been an incredibly successful tool in determining the Earth's structure already in the early 20th century.\n",
    "\n",
    "![darkside](img/pinkfloyd.png)\n",
    "\n",
    "However, just like light, seismic energy propagates as waves of many different wavelengths. Ray theory basically gets rid of all the *wave* aspects of seismic wave propagation. This simplification cannot reproduce all effects that we see.\n",
    "This includes effects like _dispersion_ (which lies a the base of the prism's effect in the image above), wave interference and so-called \"wavefront healing\".\n",
    "\n",
    "*The above image is from the Pink Floyd album \"Dark side of the moon\"*"
   ]
  },
  {
   "cell_type": "markdown",
   "metadata": {},
   "source": [
    "## This practical\n",
    "\n",
    "In this practical, you will **explore the wave nature of seismic wave propagation**, as well as why this is relevant, and how we can use it in seismic imaging. You will do this by **running simulations of seismic wave propagation**. \n",
    "\n",
    "1. **First**, you will get familiar with the simulation setting in which all the simulations in this practical will take place, and prepare all the necessary information to turn this setting into something the computer can run simulations with.\n",
    "1. **Second**, you will simulate wave propagation within this setting and analyse what is happening. You will become familiar with the interplay between source-receiver configuration, the seismic wavefield and reflections.\n",
    "1. **Third**, you will learn about the relationships between seismic velocity, signal frequency and the ray approximation. For this, you will look at _Fresnel zones_ and compute so-called _sensitivity kernels_. You will look at how this sensitivity varies for different parts of the seismogram and analyse how they highlight different properties and/or parts of the domain.\n",
    "\n",
    "At the end, **you should be able to answer the following questions**:\n",
    "\n",
    "* What are the main assumptions of ray theory? And where does this assumption break down?\n",
    "* What do we mean by  'sensitivity kernels', and how do they relate to ray paths?\n",
    "* What information is stored in one and the same seismogram about different parts of our domain?\n",
    "* Under what circumstances do the assumptions of ray theory hold best?\n",
    "* What is the influence of frequency on sensitivity to a model?\n",
    "\n",
    "In this practical you will do exercises and answer questions, all of which are supplied and can be carried out in this _Jupyter notebook_. "
   ]
  },
  {
   "cell_type": "markdown",
   "metadata": {},
   "source": [
    "<div class=\"alert alert-block alert-info\">\n",
    "<b>Note</b>: \n",
    "In order to carry out this prac and answer the questions, you will have to run all the <i>notebook cells</i> (the boxes with text and code). As the handout explains, running a cell is done by pressing `Ctrl-Enter`; running a cell and moving to the next one with `Shift-Enter`.\n",
    "    \n",
    "If you would like to answer the questions within this notebook, then you can create a new cell in which to put the answer by pressing the \"+\" in the menu  bar above. Changing the cell type between text (Markdown) and code (Code) is done in the dropdown box in the same menu bar.\n",
    "\n",
    "More relevant information on Jupyter notebooks is in the handout (also found in this directory as `Waveform_prac_handout.pdf`)\n",
    "</div>"
   ]
  },
  {
   "cell_type": "markdown",
   "metadata": {},
   "source": [
    "# Seismic signals under the surface"
   ]
  },
  {
   "cell_type": "markdown",
   "metadata": {},
   "source": [
    "## Preliminary: ray paths\n",
    "\n",
    "Consider the following \"halfspace\" beneath a surface. Assume that seismic velocities are constant throughout, but that P and S velocity are different, just as in natural rock. We're taking horizontal (left to right) = x and vertical (downwards) = z. At 40 km below the surface we are placing a seismic point source (on the left) and a receiver (100 km to the right of it)."
   ]
  },
  {
   "cell_type": "markdown",
   "metadata": {},
   "source": [
    "<img src=\"img/geometry_halfspace.png\" width=\"600\" align=\"center\" />\n",
    "\n",
    "* **Question 1**: which waves go faster? P or S waves?\n",
    "\n",
    "* **Question 2**: in the setting depicted in the diagram above, which are all the paths along which signal can travel from source to receiver? For the purpose of this question draw schematic ray paths (i.e. assume ray theory). _Hint: when considering reflections, think of Snell's law:_ $$ \\frac{\\text{sin}(\\theta_1)}{v_1} = \\frac{\\text{sin}(\\theta_2)}{v_2} $$"
   ]
  },
  {
   "cell_type": "markdown",
   "metadata": {},
   "source": [
    "## A seismogram\n",
    "\n",
    "Now suppose that the source emits a brief vibration in the x direction (top plot). As a result of this, several distinct vibrations, or _arrivals_ are recorded at the receiver (bottom plot):\n",
    "\n",
    "![source-time-function](img/stf_37.5.time_only.png)\n",
    "\n",
    "![seismogram](img/seismogram_srcx.png)\n",
    "\n",
    "* **Question 3**: How do the different arrivals that we see on this seismogram relate to the different paths that you drew in Question 2? How can comparing the two seismogram components (X and Z) help you in this?  \n",
    "_This question can be answered using only qualitative insight building from your answers above. However, if you want to make this a bit more quantitative, you can assume that P velocity = 5.8 km/s and S velocity = 3.2 km/s. Please don't overthink this._"
   ]
  },
  {
   "cell_type": "markdown",
   "metadata": {},
   "source": [
    "## Simulating wave propagation\n",
    "\n",
    "Below, you will run simulations of wave propagation, and interpret the results. This is done using a python code that I've written for this purpose -- supplied in the directory where this Jupyter notebook is also located. We'll go through building up such a simulation step-by-step, such that you get an idea of how it works."
   ]
  },
  {
   "cell_type": "markdown",
   "metadata": {},
   "source": [
    "Below is the first cell you will run. It _imports_ some code such that we can make use of its functionality. Part of this is from well-known public libraries (e.g. numpy), part of it is specific to our wave propagation project."
   ]
  },
  {
   "cell_type": "code",
   "execution_count": null,
   "metadata": {},
   "outputs": [],
   "source": [
    "# first imports\n",
    "\n",
    "import numpy as np                    # maths toolbox\n",
    "import matplotlib.pyplot as plt       # plotting toolbox\n",
    "\n",
    "from WavePyClasses import Grid, HomogeneousModel, Source, Receiver"
   ]
  },
  {
   "cell_type": "markdown",
   "metadata": {},
   "source": [
    "### Making a model box\n",
    "\n",
    "Because computers are not very good at dealing with infinity, we'll have to transform our (semi-infinite) halfspace to a finite box in which the simulations are carried out. Let's say we take a box of 200 km wide by 100 km deep, which should be sufficient for our setup. In order to run the simulations, we'll be *discretising* the model into a grid with spacing of 400 m.\n",
    "\n",
    "<div class=\"alert alert-block alert-info\">\n",
    "<b>Note</b>: how the grid is set up (i.e. which grid spacing `dx` and `dz` to choose) is motivated by the physics and how the simulations work -- to be precise the source frequency. We'll not go into this here because of time constraints of this practical, but whoever is interested can come and discuss this with me.\n",
    "</div>\n",
    "\n",
    "<div class=\"alert alert-block alert-warning\">\n",
    "<b>SI units</b><br>\n",
    "\n",
    "Because we're now calculating physics, we are going to stick entirely to SI units. That means that all units you're supplying to the program will be in metres, seconds, kilograms, metres per seconds, etc. \n",
    "</br>\n",
    "</div>\n"
   ]
  },
  {
   "cell_type": "code",
   "execution_count": null,
   "metadata": {},
   "outputs": [],
   "source": [
    "# Setting up the model domain:\n",
    "\n",
    "Lx = 200e3 # horizontal length of the model in metres\n",
    "Lz = 100e3 # vertical depth of the model in metres\n",
    "\n",
    "dx = 400.  # horizontal grid spacing [m]\n",
    "dz = 400.  # vertical grid spacing [m]\n",
    "\n",
    "# grid = conv.make_model_grid(Lx, Lz, dx, dz, verbose=True)\n",
    "grid = Grid(Lx, Lz, dx, dz)\n",
    "\n",
    "grid.print_params()"
   ]
  },
  {
   "cell_type": "markdown",
   "metadata": {},
   "source": [
    "### Making the model\n",
    "\n",
    "* **Task**: within the modelling domain, define the following properties:\n",
    "    * density = 2600 kg/m$^3$\n",
    "    * P velocity = 5.8 km/s = 5800 m/s\n",
    "    * S velocity = 3.2 km/s = 3200 m/s\n",
    "\n",
    "**Careful**: make sure you fill it in in **SI units**. It may appear childish to make you go through this, but trust me, it's a useful exercise -- errors with units have felled the best of scientists (notably resulting in a [very expensive mishap](https://en.wikipedia.org/wiki/Mars_Climate_Orbiter) with a $ 125 million dollar Mars orbiter in 1999)."
   ]
  },
  {
   "cell_type": "code",
   "execution_count": null,
   "metadata": {},
   "outputs": [],
   "source": [
    "# make model\n",
    "\n",
    "rho =  # density in kg/m^3\n",
    "vp  =  # P velocity in m/s\n",
    "vs  =  # S velocity in m/s\n",
    "\n",
    "# make a model out of the supplied values\n",
    "model = HomogeneousModel(grid, rho=rho, vp=vp, vs=vs)"
   ]
  },
  {
   "cell_type": "markdown",
   "metadata": {},
   "source": [
    "<div class=\"alert alert-block alert-info\">\n",
    "<b>Note</b>: The wave equation is defined using the elastic parameters $\\mu$ and $\\lambda$ rather than $v_s$ and $v_p$. Therefore, when we make our model, under the hood our values $v_p$ and $v_s$ are transformed to $\\mu$ and $\\lambda$, according to \n",
    "$ v_p = \\sqrt{\\frac{\\lambda + 2\\mu}{\\rho}} $ and\n",
    "$ v_s = \\sqrt{\\frac{\\mu}{\\rho}} $.\n",
    "</div>\n",
    "\n",
    "* **Bonus question A**: Derive expressions for $\\mu$ and $\\lambda$ from those for $v_p$ and $v_s$."
   ]
  },
  {
   "cell_type": "markdown",
   "metadata": {},
   "source": [
    "### Defining the source and receiver\n",
    "\n",
    "Now we're going to put a source and a receiver in the model, in the same locations as in our sketch above. "
   ]
  },
  {
   "cell_type": "code",
   "execution_count": null,
   "metadata": {},
   "outputs": [],
   "source": [
    "# define source and rec\n",
    "\n",
    "src = Source(\n",
    "    loc_x=50e3, loc_z=40e3\n",
    ") \n",
    "\n",
    "rec = Receiver(\n",
    "    loc_x=150e3, loc_z=40e3\n",
    ")\n",
    "\n",
    "print(src)\n",
    "print(rec)"
   ]
  },
  {
   "cell_type": "markdown",
   "metadata": {},
   "source": [
    "If we want anything interesting to happen, our source needs to emit some energy. We will define a _source time function_ for this, and give it a direction. As source time function, we will use a so-called \"Ricker wavelet\" (chosen because it has a nice shape and a reasonably looking frequency spectrum).\n",
    "\n",
    "*(Note: the frequency spectrum is relevant because grid size depends on it)*\n",
    "\n",
    "The Ricker wavelet looks like this:\n",
    "\n",
    "![source-time-function](img/stf_shape.png)\n",
    "\n",
    "We define our source time function as\n",
    "\n",
    "$$ r(t) = (-2\\,(2\\tau_0/\\tau)^3/\\pi) \\, (t-t_0) \\; \\text{exp} \\left[-(2\\,\\tau_0/\\tau)^2 \\, (t-t_0)^2\\right] $$\n",
    "\n",
    "where:\n",
    "\n",
    "* $t_0$: the point in time where the middle zero-crossing happens\n",
    "* $\\tau$: the source duration\n",
    "\n",
    "Because our calculation is step by step, we'll have to define a time axis first. Let's say we want at first about 10 seconds of time. Furthermore, let's define the source to be excited in the X direction.\n",
    "\n",
    "<div class=\"alert alert-block alert-info\">\n",
    "<b>Note</b>: Just like with the grid, the time axis is not chosen accidentally -- it derives from the physics of wave propagation, the seismic velocities and the grid spacing chosen above. I'm just telling you that the suitable value for the given setup is `dt = 0.03` because determining this value is not very insightful from a seismological point of view. Again, whoever is interested can come and discuss this with me, and I can point you to literature.\n",
    "</div>\n",
    "\n",
    "* **Task**: fill in the source time function such that: \n",
    "    * the source amplitude only starts rising well after the beginning of the time (otherwise you will get strange numerical effects in your simulation)\n",
    "    * the source duration is 4 seconds\n"
   ]
  },
  {
   "cell_type": "code",
   "execution_count": null,
   "metadata": {},
   "outputs": [],
   "source": [
    "# define time axis and source-time function\n",
    "\n",
    "simulation_duration = 10.\n",
    "t_0 =\n",
    "tau = \n",
    "\n",
    "src.set_time(t_max=simulation_duration, dt=0.03)\n",
    "\n",
    "src.set_stf(\n",
    "    src_type='ricker',\n",
    "    src_direction = (1,0),\n",
    "    t_0 = t_0,\n",
    "    tau = tau,\n",
    ")\n",
    "\n",
    "print(src)\n",
    "\n",
    "src.plot_stf()"
   ]
  },
  {
   "cell_type": "markdown",
   "metadata": {},
   "source": [
    "### Running the simulation\n",
    "\n",
    "Now that we have a discretised model, a source (with source-time function) and a receiver, we're finally getting to the interesting bit. To run the simulation, we'll first have to import the actual wave propagation simulation code."
   ]
  },
  {
   "cell_type": "code",
   "execution_count": null,
   "metadata": {},
   "outputs": [],
   "source": [
    "import WaveProp as waveprop"
   ]
  },
  {
   "cell_type": "markdown",
   "metadata": {},
   "source": [
    "Above, you defined a source time function of 10 seconds, so let's start off with running a pretty simple simulation based on this. "
   ]
  },
  {
   "cell_type": "markdown",
   "metadata": {},
   "source": [
    "<div class=\"alert alert-block alert-info\">\n",
    "\n",
    "\n",
    "<b>Using the function `run_waveprop`</b> \n",
    "<p>\n",
    "The function that actually does the wave simulation is called `run_waveprop` and needs a bit of input. First of all, it requires your source(s), receiver(s) and model. Furthermore:</p>\n",
    "\n",
    "<ul>\n",
    "        <li><b>Plotting the wavefield</b>: \n",
    "            the code can show you the wavefield as it is developing by setting the `plot_wavefield` option to `True`. `plot_wavefield_every` defines every how many time steps this is done. It's hard work for your computer to plot this, so every time step would just take ages. Depending on the time step and duration of the simulation, a value between 10 and 50 is usually suitable.\n",
    "</li>\n",
    "        <li><b>Verbosity</b>: we're also setting the `verbose` option to `True`, such that it gives us a little bit of feedback on what's happening.\n",
    "</li>\n",
    "</ul>\n",
    "\n",
    "The variable `receivers` is output of the simulation, while you also supplied a receiver as input. `receivers` is a list of all receivers you supplied (there may be more than one), with each of them having a new attribute `.seismogram`. \n",
    "\n",
    "</div>"
   ]
  },
  {
   "cell_type": "markdown",
   "metadata": {},
   "source": [
    "<div class=\"alert alert-block alert-info\">\n",
    "\n",
    "<b>A note on visualisation in jupyter notebooks</b> <br>\n",
    "    In order to actually see what happens <i>during</i> a simulation, you need to start the cell with the line\n",
    "\n",
    "    `%matplotlib notebook` \n",
    "\n",
    "above it. Then the plot becomes interactive (and will update itself while the code is running). For most plots it's not necessary (and it is an annoying feature if you don't need it) so you can turn it off again by setting at the beginning of a cell\n",
    "\n",
    "    `%matplotlib inline`\n",
    "    \n",
    "</div>"
   ]
  },
  {
   "cell_type": "code",
   "execution_count": null,
   "metadata": {},
   "outputs": [],
   "source": [
    "%matplotlib notebook\n",
    "plt.close()\n",
    "receivers = waveprop.run_waveprop(src, rec, model, \n",
    "                            plot_wavefield=True, plot_wavefield_every=40,\n",
    "                            verbose=True);\n",
    "plt.show();"
   ]
  },
  {
   "cell_type": "markdown",
   "metadata": {},
   "source": [
    "* **Question 4**: Discuss what you observed in this very short simulation. What kind of signals do you see? How does this relate to the source that you defined? And what would happen if you had changed the `source_direction` to (0,1)? *Don't actually run a new simulation for this -- think about what might happen.*\n",
    "* **Question 5**: What do you expect will happen to the waves when you run the simulation for longer? What will happen when the waves reach the boundaries of our non-infinite model box?"
   ]
  },
  {
   "cell_type": "markdown",
   "metadata": {},
   "source": [
    "### A bit longer\n",
    "\n",
    "We will now run the simulation for a bit longer, and actually see what happens."
   ]
  },
  {
   "cell_type": "code",
   "execution_count": null,
   "metadata": {},
   "outputs": [],
   "source": [
    "%matplotlib inline\n",
    "\n",
    "simulation_duration = 20.\n",
    "\n",
    "src.set_time(t_max=simulation_duration, dt=0.03)\n",
    "src.set_stf(\n",
    "    src_type='ricker',\n",
    "    src_direction = (1,0),\n",
    "    t_0 = 2.5,\n",
    "    tau = 4,\n",
    ")\n",
    "\n",
    "# plot the source and its spectrum\n",
    "src.plot_stf()"
   ]
  },
  {
   "cell_type": "code",
   "execution_count": null,
   "metadata": {},
   "outputs": [],
   "source": [
    "%matplotlib notebook\n",
    "plt.close()\n",
    "receivers_out = waveprop.run_waveprop(\n",
    "    src, rec, model, \n",
    "    plot_wavefield=True, plot_wavefield_every=40,\n",
    "    verbose=True)\n",
    "plt.show()"
   ]
  },
  {
   "cell_type": "markdown",
   "metadata": {},
   "source": [
    "**Well, that looks messy.**\n",
    "\n",
    "Here we run into the limitation of simulating wave propagation: we've defined it in a box, whereas we're interested in a halfspace. And guess what:\n",
    "\n",
    "### A box is not a halfspace\n",
    "In the simulation above, we ran into reflections from every direction, most notably also the sides and the bottom. To simulate the \"infinity\" of the left, right and bottom boundaries, we will introduce so-called \"absorbing boundaries\". The method we used was developed in the 1990s in order to bypass the need to make the model ever larger in order to make sure that our waves never reach the box edge. This method is not perfect, but it gets rid of the unwanted reflections to a large extent.\n",
    "\n",
    "![model_absbound](img/model_setting.png)\n",
    "\n",
    "* **Task**: To give your model a bit of padding, define absorbing boundaries of 25 km width below. Then, run the simulation again, now including the absorbing boundaries. **Think of SI units.**\n",
    "\n",
    "<div class=\"alert alert-block alert-info\">\n",
    "<b>Note</b>: again, this value is actually also motivated by physics.\n",
    "</div>"
   ]
  },
  {
   "cell_type": "code",
   "execution_count": null,
   "metadata": {},
   "outputs": [],
   "source": [
    "# put all the absorbing boundary info into a Python dictionary\n",
    "absorbing_boundaries = {'left': ,\n",
    "                        'right': ,\n",
    "                        'bottom': , \n",
    "                       }"
   ]
  },
  {
   "cell_type": "code",
   "execution_count": null,
   "metadata": {},
   "outputs": [],
   "source": [
    "%matplotlib notebook\n",
    "plt.close()\n",
    "receivers_out = waveprop.run_waveprop(src, rec, model, absorbing_boundaries, \n",
    "                            plot_wavefield=True, plot_wavefield_every=40,\n",
    "                            verbose=True)\n",
    "plt.show()"
   ]
  },
  {
   "cell_type": "markdown",
   "metadata": {},
   "source": [
    "* **Question 6**: You should now see reflections only(*) from the top surface of the model domain. Identify all the different waves and reflections that you now see. Are they P or S? Why do you get double reflections?\n",
    "\n",
    "_(*) apart from some very faint ones from the other boundaries, if you look very carefully. As said, the method is not perfect._"
   ]
  },
  {
   "cell_type": "markdown",
   "metadata": {},
   "source": [
    "## From source to receiver\n",
    "\n",
    "You should have developed some intuition of wave propagation now, and know how to set up a simulation. \n",
    "\n",
    "Now, let's run the simulation all the way to the receiver. For this, we'll again increase the duration of the source time function, in order for the signal to actually reach the receiver. After this, we can look at seismograms."
   ]
  },
  {
   "cell_type": "code",
   "execution_count": null,
   "metadata": {},
   "outputs": [],
   "source": [
    "%matplotlib inline\n",
    "\n",
    "simulation_duration = 27.\n",
    "\n",
    "src_fulltime = Source(\n",
    "    loc_x=50e3, loc_z=40e3,\n",
    "    t_max = simulation_duration,\n",
    "    dt = 0.03,\n",
    "    src_type = 'ricker',\n",
    "    src_direction = (1,0),\n",
    "    t_0 = 2.5,\n",
    "    tau = 4,\n",
    ") \n",
    "\n",
    "# plot the source and its spectrum\n",
    "src_fulltime.plot_stf()"
   ]
  },
  {
   "cell_type": "markdown",
   "metadata": {},
   "source": [
    "<div class=\"alert alert-block alert-info\">\n",
    "<b>Note</b>: We will also store the forward field by setting `store_forward_field = True` (this will be useful for the next part of the practical).\n",
    "</div>"
   ]
  },
  {
   "cell_type": "code",
   "execution_count": null,
   "metadata": {},
   "outputs": [],
   "source": [
    "%matplotlib notebook\n",
    "\n",
    "# run the wave propagation\n",
    "receivers, fw_fields = waveprop.run_waveprop(\n",
    "    src_fulltime, rec, model, absorbing_boundaries, \n",
    "    plot_wavefield=True, plot_wavefield_every=40,\n",
    "    store_forward_fields=True,\n",
    "    verbose=True\n",
    ")\n",
    "\n",
    "plt.show()"
   ]
  },
  {
   "cell_type": "markdown",
   "metadata": {},
   "source": [
    "Now that some signal has reached the receiver, we can check out the seismogram."
   ]
  },
  {
   "cell_type": "code",
   "execution_count": null,
   "metadata": {},
   "outputs": [],
   "source": [
    "%matplotlib inline\n",
    "receivers[0].plot_seismogram()"
   ]
  },
  {
   "cell_type": "markdown",
   "metadata": {},
   "source": [
    "* **Question 7**: having looked at the wave simulation, it should now be easy for you to determine which waves we see arriving. Compare to the seismogram at the beginning of this practical, and indicate the different arrivals. If necessary, rerun the wave propagation, making note of the arrival times times that you're interested in."
   ]
  },
  {
   "cell_type": "markdown",
   "metadata": {},
   "source": [
    "# Interference\n",
    "\n",
    "Because the emitted signal has a duration that is non-zero, the effects of *interference* play an important role in the wave propagation we see. Suppose we have some energy travelling along a straight path from point A to point B, but at the same time some energy travelling along a slightly longer path:\n",
    "\n",
    "![path](img/raypaths.png)"
   ]
  },
  {
   "cell_type": "markdown",
   "metadata": {},
   "source": [
    "Because one signal travels along a slightly longer path, the signals arrive slightly shifted in time. As long as the path is only slightly shorter, this will result in _constructive interference_:\n",
    "\n",
    "![timeshift](img/interference.png)\n",
    "\n",
    "This is only as long as the time shift isn't too large: you can imagine that if a maximum of one wave and a minimum of the next overlap, the result is zero."
   ]
  },
  {
   "cell_type": "markdown",
   "metadata": {},
   "source": [
    "* **Question 8**: Consider a simple sine wave. What is the maximum time shift that the wave can be delayed by to get constructive interference, expressed in terms of wave period $T$? \n",
    "* **Question 9**: Consequently, what is the maximum deviation in path length in order for constructive interference to still occur, expressed in terms of wave period $T$ and wavespeed $v$?"
   ]
  },
  {
   "cell_type": "markdown",
   "metadata": {},
   "source": [
    "With this maximum deviation in path length, we can describe an ellipse within which, to first order, energy will contribute to positive interference. This ellipse is called the _Fresnel zone_, the width of which is given by \n",
    "$$ w_F = \\sqrt{\\frac{v L}{f}}$$\n",
    "with $v$ the wavespeed, $L$ the propagation distance, and $f$ the signal frequency. \n",
    "\n",
    "Here is an example of the Fresnel zone for a P-wave with a frequency of 2 Hz. Waves travelling within this entire region will interfere constructively with each other: \n",
    "\n",
    "![path](img/Fresnel_Pwave_2Hz.png)\n",
    "\n",
    "**The Fresnel zone can be seen as the space around the source and receiver that will affect a signal, for a given combination of source, receiver and frequency content.** This is an important concept in wireless communication as well: if you an object blocks part of the Fresnel zone, this can deteriorate the signal significantly even if it doesn't block the direct source-receiver path. Use this as some practical knowledge the next time you're waving around your phone to catch reception..."
   ]
  },
  {
   "cell_type": "markdown",
   "metadata": {},
   "source": [
    "* **Question 10**: What happens to the Fresnel zone if we make our emitted energy signal longer-period?\n",
    "* **Question 11**: And what would the Fresnel zone look like for an S-wave, same source-receiver distance and same signal frequency? Will the shape be the same or different? Describe this qualitatively.\n",
    "\n",
    "\n",
    "\n",
    "* **Bonus question B**: Based on questions 8 and 9, try to derive the expression for the Fresnel zone as given above."
   ]
  },
  {
   "cell_type": "markdown",
   "metadata": {},
   "source": [
    "## Sensitivity kernels\n",
    "\n",
    "Very simply put, **sensitivity kernels are a generalised and mathematically more formal equivalent of the Fresnel zone**. You can equally see them as generalised equivalent to seismic rays. It doesn't only work for direct waves, but for arbitrarily complex waves as well as *interacting* waves.\n",
    "\n",
    "* The kernel depends on the part of the data that you select: the _measurement_. Often we will select a specific arrival in our data. The kernel corresponds to the part of the model that this seismic wave travelled through. If this is a direct path, it will look like a Fresnel zone. \n",
    "* If there are reflections, if there is strong heterogeneity in your model, or if you select multiple arrivals (whether interfering or not), the sensitivity kernel can get arbitrarily complicated.\n",
    "* A specific measurement will have at least _some_ sensitivity to each of the model parameters $v_s$, $v_p$ and $\\rho$. In other words, even if you select a P-wave, there will be some sensitivity to S velocity structure (and to density).\n",
    "\n",
    "**In the next part, you will do this data selection yourself and create some sensitivity kernels.**"
   ]
  },
  {
   "cell_type": "markdown",
   "metadata": {},
   "source": [
    "<div class=\"alert alert-block alert-info\">\n",
    "<b>Constructing sensitivity kernels</b><br>\n",
    "    \n",
    "Computationally, sensitivity kernels can be constructed by running two simulations: one forward and one 'time-reversed' or 'adjoint'. You will see in a minute what that means. Without going into too much mathematical detail, here is how we construct them.\n",
    "<ol>\n",
    "    <li>Run a simulation where you store snapshots of the wavefield at regular intervals (what you've just done). This is termed the <i>forward wavefield</i>. </li>\n",
    "    <li>Make a measurement on the seismogram recorded at the receiver. This will be your <i>adjoint source</i>. </li>\n",
    "    <li>Run a simulation that goes backwards in time, using this adjoint source that is emitted from the receiver position. This is the <i>adjoint simulation</i> which results in an <i>adjoint wavefield</i>. </li>\n",
    "    <li>While this adjoint simulation is running, calculate the interaction between the (stored) forward wavefield and the adjoint wavefield that is being made. This interaction, summed over time, will add up to form the <i>sensitivity kernels</i>. </li>\n",
    "</ol>\n",
    "    \n",
    "There is a sensitivity kernel for each model parameter, which results from different types of interactions between the forward and adjoint wavefields. Depending on what kind of signal was selected and what's inside your model, sensitivity to different parameters can look very different.    \n",
    "</div>"
   ]
  },
  {
   "cell_type": "markdown",
   "metadata": {},
   "source": [
    "## P-wave\n",
    "\n",
    "Because we already stored the forward fields in our previous simulation (step 1), we can now immediately move to step 2: making a measurement from the seismogram. This is done by selecting a specific window of interest from the seismogram. First of all, we will look at the direct P-wave arrival. Based on the wave propagation you ran, you should know which arrival this is on your seismogram.\n",
    "\n",
    "Once we've decided which measurement we are focusing on, we can start computing sensitivity kernels. We do this by first calculating the adjoint source for the part of the seismogram that we're interested in.\n",
    "\n",
    "* **Task**: from the seismogram that you plotted above, define a window around the direct P-wave arrival. For this, give the window start and end time in the cell below (`window_start` and `window_end`). Make sure that the window doesn't include any other arrivals (you may have to experiment with this a bit). If it does, you will see that the kernel will incorporate parts of the model that other phases are sensitive to.\n",
    "* **Question 12**: why did I supply the `component_of_window_selection = x`? \n",
    "\n",
    "If you run the cell below, a plot will appear showing both the original and windowed seismogram. If you change `plot=2` to `plot=3`, you will also see the resulting adjoint source. "
   ]
  },
  {
   "cell_type": "code",
   "execution_count": null,
   "metadata": {},
   "outputs": [],
   "source": [
    "# define the window pick\n",
    "\n",
    "%matplotlib inline\n",
    "\n",
    "component_of_window_selection = ['x']\n",
    "# Fill in these values\n",
    "window_start = \n",
    "window_end   = \n",
    "\n",
    "pick = {}\n",
    "pick['component'] = component_of_window_selection\n",
    "pick['times'] = [window_start, window_end]\n",
    "print('window goes from {} to {} s'.format(pick['times'][0], pick['times'][1]))\n",
    "\n",
    "receivers_Pwave = waveprop.make_adjoint_source(receivers, pick, plot=2)"
   ]
  },
  {
   "cell_type": "markdown",
   "metadata": {},
   "source": [
    "We've now created a new `receivers_Pwave` variable that has an adjoint source attached to it that is specific for the P wave pick that we made. We can use this to run an adjoint simulation. Here, the recorded signal will travel from the receiver backwards in time towards the source, while simultaneously the stored forward field is loaded at the correct timestep. Wherever the fields interact, the sensitivity kernel is built up. Having prepared this, we are now ready to run the wave propagation in adjoint mode. \n",
    "\n",
    "For this, we have some new input in the function:\n",
    "\n",
    "* `simulation_mode = 'adjoint'` will tell the wave propagation to run backwards in time, and look for adjoint source time functions in the receiver dictionary rather than source time functions in the source dictionary.\n",
    "* `forward_fields = fw_fields` are the forward fields that you've previously calculated.\n",
    "\n",
    "Although this is a bit slower, we are going to plot the wavefield as it is developing again (`plot_wavefield=True`), so that you can see what is happening here. You will see that indeed the signal starts at the receiver, whilst time is counting backwards."
   ]
  },
  {
   "cell_type": "code",
   "execution_count": null,
   "metadata": {
    "scrolled": false
   },
   "outputs": [],
   "source": [
    "%matplotlib notebook\n",
    "plt.close()\n",
    "kernels_Pwave = waveprop.run_waveprop(src_fulltime, receivers_Pwave, model, absorbing_boundaries,\n",
    "                                simulation_mode='adjoint', forward_fields= fw_fields, \n",
    "                                plot_wavefield=True, plot_wavefield_every = 40, \n",
    "                                verbose = True)"
   ]
  },
  {
   "cell_type": "markdown",
   "metadata": {},
   "source": [
    "Let's plot the kernels that have been built up. "
   ]
  },
  {
   "cell_type": "code",
   "execution_count": null,
   "metadata": {},
   "outputs": [],
   "source": [
    "%matplotlib inline\n",
    "kernels_Pwave.plot_kernels(model=model, source=src_fulltime, receiver=rec)"
   ]
  },
  {
   "cell_type": "markdown",
   "metadata": {},
   "source": [
    "* **Question 13**: Write down your main observations when looking at these kernels. What are the things you notice most? Use what you have learned in the preceding questions."
   ]
  },
  {
   "cell_type": "markdown",
   "metadata": {},
   "source": [
    "* **Bonus task**: If all is well, you picked your P-wave carefully and the sensitivity kernel looks clean: it only shows sensitivity in the elliptical area spanned by the source and the receiver. If you were not so careful, and would let the window run, for example, until $t$=27 s, your kernel would start to show sensitivity to parts of the model that the second arrival on your seismogram travels through. Explore below what this looks like and write down your main observations in how these kernels differ from your initial kernels."
   ]
  },
  {
   "cell_type": "code",
   "execution_count": null,
   "metadata": {},
   "outputs": [],
   "source": [
    "%matplotlib inline\n",
    "component_of_window_selection = ['x']\n",
    "window_start = 17.5\n",
    "window_end   = 27.\n",
    "\n",
    "pick = {}\n",
    "pick['component'] = component_of_window_selection\n",
    "pick['times'] = [window_start, window_end]\n",
    "print('window goes from {} to {} s'.format(pick['times'][0], pick['times'][1]))\n",
    "\n",
    "receivers_Pwave = waveprop.make_adjoint_source(receivers, pick, plot=2)\n",
    "\n",
    "kernels_messyPwave = waveprop.run_waveprop(\n",
    "    src_fulltime, receivers_Pwave, model, absorbing_boundaries,\n",
    "    simulation_mode='adjoint', forward_fields= fw_fields, \n",
    "    plot_wavefield=False,\n",
    "    verbose = True)"
   ]
  },
  {
   "cell_type": "code",
   "execution_count": null,
   "metadata": {},
   "outputs": [],
   "source": [
    "%matplotlib inline\n",
    "kernels_messyPwave.plot_kernels(model=model, source=src_fulltime, receiver=rec)"
   ]
  },
  {
   "cell_type": "markdown",
   "metadata": {},
   "source": [
    "## The effect of frequency\n",
    "\n",
    "In the next exercise, you will explore the effect of frequency on the wave propagation. The source frequency is essentially determined by the duration of the source: the longer the signal lasts, the lower the overall frequency. You will now have a look what happens if you supply a longer source duration. This goes back to Question 10.\n",
    "\n",
    "* **Question 14**: Before running anything: what change(s) do you expect to see in the seismogram? And what change(s) in the sensitivity kernels?\n",
    "\n",
    "* **Task**: fill in the source duration and timing, and create a source time function such that the duration is twice that of what you plotted before. Then run the wave propagation for this lower frequency source. *(if you like, you can turn on plotting by removing the comment symbol (`#`) -- this will just make the simulation slightly slower.)*"
   ]
  },
  {
   "cell_type": "code",
   "execution_count": null,
   "metadata": {},
   "outputs": [],
   "source": [
    "%matplotlib inline\n",
    "\n",
    "simulation_duration = 30.\n",
    "t_0 = \n",
    "tau = \n",
    "\n",
    "src_LF = Source(\n",
    "    loc_x=50e3, loc_z=40e3, \n",
    "    t_max=simulation_duration, dt=0.03, \n",
    "    src_direction=(1.,0.), \n",
    "    src_type='ricker', tau=tau, t_0=t_0, \n",
    ")\n",
    "\n",
    "src_LF.plot_stf()"
   ]
  },
  {
   "cell_type": "code",
   "execution_count": null,
   "metadata": {},
   "outputs": [],
   "source": [
    "%matplotlib notebook\n",
    "\n",
    "# run the wave propagation\n",
    "receivers_LF, fw_fields_LF = waveprop.run_waveprop(\n",
    "    src_LF, rec, model, absorbing_boundaries, \n",
    "#     plot_wavefield=True, plot_wavefield_every=40,\n",
    "    store_forward_fields=True,\n",
    "    verbose=True)"
   ]
  },
  {
   "cell_type": "code",
   "execution_count": null,
   "metadata": {},
   "outputs": [],
   "source": [
    "%matplotlib inline\n",
    "receivers_LF[0].plot_seismogram()"
   ]
  },
  {
   "cell_type": "markdown",
   "metadata": {},
   "source": [
    "* **Question 15**: how does this seismogram differ from the one you looked at previously? What happened to the two arrivals that we saw in our original seismogram?\n",
    "\n",
    "<div class=\"alert alert-block alert-info\">\n",
    "<b>Note</b> Your answer to Question 15 will already give you some insight into the limitations of ray theory if arrivals of different waves happen very shortly after each other.\n",
    "</div>"
   ]
  },
  {
   "cell_type": "markdown",
   "metadata": {},
   "source": [
    "* **Task**: Again, fill in window selection values to isolate the P-wave arrival. Be careful here: the phases partially interfere. If you want to get a 'clean' kernel, make sure not to incorporate part of a different arrival than the one you are interested in. "
   ]
  },
  {
   "cell_type": "code",
   "execution_count": null,
   "metadata": {},
   "outputs": [],
   "source": [
    "### define the window pick\n",
    "\n",
    "%matplotlib inline\n",
    "\n",
    "component_of_window_selection = ['x']\n",
    "window_start = \n",
    "window_end   = \n",
    "\n",
    "pick = {}\n",
    "pick['component'] = component_of_window_selection\n",
    "pick['times'] = [window_start, window_end]\n",
    "print('window goes from {} to {} s'.format(pick['times'][0], pick['times'][1]))\n",
    "\n",
    "receivers_LF = waveprop.make_adjoint_source(receivers_LF, pick, plot=2)"
   ]
  },
  {
   "cell_type": "code",
   "execution_count": null,
   "metadata": {},
   "outputs": [],
   "source": [
    "%matplotlib notebook\n",
    "plt.close()\n",
    "kernels_LF = waveprop.run_waveprop(\n",
    "    src_LF, receivers_LF, model, absorbing_boundaries,\n",
    "    simulation_mode='adjoint', forward_fields=fw_fields_LF, \n",
    "    verbose = True\n",
    ")"
   ]
  },
  {
   "cell_type": "code",
   "execution_count": null,
   "metadata": {},
   "outputs": [],
   "source": [
    "%matplotlib inline\n",
    "kernels_LF.plot_kernels(\n",
    "    model=model, source=src_LF, receiver=rec\n",
    ")"
   ]
  },
  {
   "cell_type": "markdown",
   "metadata": {},
   "source": [
    "* **Question 16**: compare these kernels to the previous ones you produced. What is the most important difference? Why is this the case? _(think back to Question 10)_\n",
    "* **Question 17**: suppose we had instead used a _higher_ source frequency (i.e. a shorter duration $\\tau$). What would have happened then? How does this relate to ray theory? *NOTE: Do not actually run this -- if you try, your simulation will \"explode\" due to numerical instability. In order to solve this, you would need a finer grid and a shorter `dt`, which would make the simulation very slow.*"
   ]
  },
  {
   "cell_type": "markdown",
   "metadata": {},
   "source": [
    "# S-wave\n",
    "\n",
    "Now let's also compute a sensitivity kernel for an initial S wave. For this, we have to change the source direction, and run the simulation a bit longer, because S-waves are slower."
   ]
  },
  {
   "cell_type": "code",
   "execution_count": null,
   "metadata": {},
   "outputs": [],
   "source": [
    "simulation_duration = 38.\n",
    "t_0 = 2.5\n",
    "tau = 4.\n",
    "\n",
    "src_S = Source(\n",
    "    loc_x=50e3, loc_z=40e3, \n",
    "    t_max=simulation_duration, dt=0.03, \n",
    "    src_direction=(0., 1.), src_type='ricker', tau=tau, t_0=t_0, \n",
    ")"
   ]
  },
  {
   "cell_type": "code",
   "execution_count": null,
   "metadata": {},
   "outputs": [],
   "source": [
    "%matplotlib notebook\n",
    "\n",
    "# run the wave propagation\n",
    "receivers_Swave, fw_fields = waveprop.run_waveprop(src_S, rec, model, absorbing_boundaries, \n",
    "                                  plot_wavefield='vz', plot_wavefield_every=40,\n",
    "                                  store_forward_fields=True,\n",
    "                                  verbose=False)\n",
    "plt.show();\n"
   ]
  },
  {
   "cell_type": "code",
   "execution_count": null,
   "metadata": {},
   "outputs": [],
   "source": [
    "%matplotlib inline\n",
    "receivers_Swave[0].plot_seismogram()"
   ]
  },
  {
   "cell_type": "markdown",
   "metadata": {},
   "source": [
    "* **Question 18**: Compare this seismogram to the one you created for the initial P-wave simulation (i.e. the one with $\\tau$ = 4 seconds). Can you find the same phases again? Identify all the separate arrivals you see. Which one is the direct S-wave? It may help to run the simulation several times with plotting turned on, and look at how the wavefield is developing."
   ]
  },
  {
   "cell_type": "markdown",
   "metadata": {},
   "source": [
    "Now, let's pick a window around the S-wave and create sensitivity kernels."
   ]
  },
  {
   "cell_type": "code",
   "execution_count": null,
   "metadata": {},
   "outputs": [],
   "source": [
    "%matplotlib inline\n",
    "\n",
    "# define the window pick\n",
    "component_of_window_selection = ['z'] # S wave\n",
    "# Fill in these values\n",
    "window_start = 35.55\n",
    "window_end   = 36.7\n",
    "\n",
    "pick = {}\n",
    "pick['component'] = component_of_window_selection\n",
    "pick['times'] = [window_start, window_end]\n",
    "print('window goes from {} to {} s'.format(pick['times'][0], pick['times'][1]))\n",
    "\n",
    "receivers_Swave = waveprop.make_adjoint_source(receivers_Swave, pick, plot=2)"
   ]
  },
  {
   "cell_type": "code",
   "execution_count": null,
   "metadata": {},
   "outputs": [],
   "source": [
    "kernels_Swave = waveprop.run_waveprop(\n",
    "    src_S, receivers_Swave, model, absorbing_boundaries,\n",
    "    simulation_mode='adjoint', forward_fields= fw_fields, \n",
    "    verbose = False\n",
    ")"
   ]
  },
  {
   "cell_type": "code",
   "execution_count": null,
   "metadata": {},
   "outputs": [],
   "source": [
    "kernels_Swave.plot_kernels(\n",
    "    model=model, source=src_S, receiver=rec\n",
    ")"
   ]
  },
  {
   "cell_type": "markdown",
   "metadata": {},
   "source": [
    "* **Question 19**: Here, we see that the largest sensitivity is for S-velocity, in a path that goes in a straight line between source and receiver. However, these kernels aren't nearly as clean as the ones we created for the P-wave. Why is this kernel so much more messy than the P-wave kernel we looked at before? *Hint: go back to the seismogram where the measurement window is picked, and/or the wavefield simulation to see what happens around the time the S-wave reaches the receiver.*"
   ]
  },
  {
   "cell_type": "markdown",
   "metadata": {},
   "source": [
    "### Intermediate recap\n",
    "\n",
    "In this practical, you've looked at wave propagation simulations and the creation of sensitivity kernels. Doing these things manually and playing around with frequencies, window selections and wave types all help you to build an understanding of the nature of wave propagation. Normally, however, most of these steps will be automated. \n",
    "\n",
    "This does beg the question: **other than educational, what is the use?**"
   ]
  },
  {
   "cell_type": "markdown",
   "metadata": {},
   "source": [
    "# Sensitivity kernels and (waveform) tomography\n",
    "\n",
    "The reason we are so interested in the wave nature of seismic wave propagation is that it is a direct issue in seismology. Earthquakes don't send out sharp pulses -- their source-time functions are extended over time. This means that in reality, ray paths in the Earth do not exist either - instead our signals are sensitive to a blob of Earth that gets ever more complex depending on the Earth structure.\n",
    "\n",
    "Instead of seeing this as a limitation, **we can use the wave nature of seismic signals -- using waveform tomography**. Compared to 'classical' tomography, we do not measure specific arrival times and compare these to theoretically computed times, we compare entire seismograms against synthetic seismograms. In _waveform tomography_, we thus want to find an Earth model that fits our observed (entire) seismograms. Sensitivity kernels play a central role in achieving this.\n",
    "\n",
    "* By selecting windows that include arrivals that travelled along many different \"paths\" through the Earth, we can fill up our model domain with sensitivity. \n",
    "* Within each window, we compare our real and synthetic seismograms to each other to determine the \"misfit\", compute the adjoint source and from there calculate the sensitivity kernels.\n",
    "* Sensitivity kernels, in this context, are the _gradients_ of the misfit with respect to the model parameters. In other words, they tell you how each model parameter should be updated in order to better fit the data.\n",
    "* By doing this *iteratively* (compute misfit - compute gradients - update model - repeat), you can obtain an Earth model that reflects the full physics of seismic wave propagation, without needing any limiting assumptions."
   ]
  },
  {
   "cell_type": "markdown",
   "metadata": {},
   "source": [
    "## Why bother with these simulations?\n",
    "\n",
    "The simulations that you've run here are very slow. If you want do waveform tomography on a large scale, with potentially hundreds of thousands of seismograms from hundreds of earthquakes, this will consume a lot of computational resources (and as a consequence, result in not insignificant greenhouse gas emissions). We therefore want to be sure that it's worth it. So is it? \n",
    "\n",
    "Your final task is a back-of-the-envelope calculation on the width of the sensitivity kernel within the Earth. For this, you will consider a typical type of signal that seismologists observe on seismograms in the medium to long distance range. Typically, at those distances the observed signal frequency is in the order of 1 Hz max."
   ]
  },
  {
   "cell_type": "markdown",
   "metadata": {},
   "source": [
    "* **Question 20**: Have a look again at the sensitivity kernels that you created. Indeed, they are to first order ellipses, reminiscent of the Fresnel zone that we already defined above: \n",
    "$$ w_F = \\sqrt{\\frac{v L}{f}}$$\n",
    "with $v$ the wavespeed, $L$ the propagation distance, and $f$ the signal frequency. \n",
    "![path](img/Fresnel_on_kernel.png)\n",
    "Assuming that our P-velocity defined at the beginning of this practical is representative for the entire Earth, and that 1 Hz is more or less the highest frequency that we can observe at large distances, what is the width of the Fresnel zone for a wave crossing the Earth? How do you expect the Fresnel zone/sensitivity kernel to change if we take into account the fact that seismic velocities within the Earth increase with depth? What does this mean for ray-based tomography?\n",
    "\n",
    "\n",
    "* **Question 21**: explain in your own words what kind of advantages it may have to use waveform tomography rather than (ray-based) traveltime tomography. In which context would travel-time tomography be more suitable? What kind of signals do you need, then?"
   ]
  },
  {
   "cell_type": "markdown",
   "metadata": {},
   "source": [
    "## Bonus: A large-amplitude arrival\n",
    "\n",
    "We will now go back to our original simulation but run it for slightly longer. "
   ]
  },
  {
   "cell_type": "code",
   "execution_count": null,
   "metadata": {},
   "outputs": [],
   "source": [
    "simulation_duration = 36.\n",
    "t_0 = 3.\n",
    "tau = 4.\n",
    "\n",
    "src_long = Source(\n",
    "    loc_x=50e3, loc_z=40e3, \n",
    "    t_max=simulation_duration, dt=0.03, \n",
    "    src_direction=(1.,0.), src_type='ricker', tau=tau, t_0=t_0, \n",
    ")\n",
    "\n",
    "src_long.plot_stf()"
   ]
  },
  {
   "cell_type": "markdown",
   "metadata": {},
   "source": [
    "* **Bonus Question C**: pay close attention when you run the wave simulation below, and determine what kind of signal is arriving around 30 seconds."
   ]
  },
  {
   "cell_type": "code",
   "execution_count": null,
   "metadata": {},
   "outputs": [],
   "source": [
    "%matplotlib notebook\n",
    "\n",
    "# run the wave propagation\n",
    "receivers_x36s, fw_fields_x36s = waveprop.run_waveprop(\n",
    "    src_long, rec, model, absorbing_boundaries, \n",
    "    plot_wavefield=True, plot_wavefield_every=40,\n",
    "    store_forward_fields=True,\n",
    "    verbose=True\n",
    ")"
   ]
  },
  {
   "cell_type": "code",
   "execution_count": null,
   "metadata": {},
   "outputs": [],
   "source": [
    "%matplotlib inline\n",
    "receivers_x36s[0].plot_seismogram()"
   ]
  },
  {
   "cell_type": "markdown",
   "metadata": {},
   "source": [
    "* **Bonus Question D**: Why is the amplitude of this arrival so much larger than that of the direct P-wave? If you need, re-run the simulation in order to determine what is happening."
   ]
  },
  {
   "cell_type": "code",
   "execution_count": null,
   "metadata": {},
   "outputs": [],
   "source": [
    "# define the window pick\n",
    "%matplotlib inline\n",
    "\n",
    "component_of_window_selection = ['x']\n",
    "window_start = 31.\n",
    "window_end   = 31.8\n",
    "\n",
    "pick = {}\n",
    "pick['component'] = component_of_window_selection\n",
    "pick['times'] = [window_start, window_end]\n",
    "print('window goes from {} to {} s'.format(pick['times'][0], pick['times'][1]))\n",
    "\n",
    "receivers_LargeAmp = waveprop.make_adjoint_source(receivers_x36s, pick, plot=2)"
   ]
  },
  {
   "cell_type": "code",
   "execution_count": null,
   "metadata": {},
   "outputs": [],
   "source": [
    "%matplotlib notebook\n",
    "plt.close()\n",
    "kernels_LA = waveprop.run_waveprop(src_long, receivers_LargeAmp, model, absorbing_boundaries,\n",
    "                                simulation_mode='adjoint', forward_fields=fw_fields_x36s, \n",
    "#                                 plot_wavefield=True, plot_wavefield_every = 40, \n",
    "                                verbose = True)"
   ]
  },
  {
   "cell_type": "code",
   "execution_count": null,
   "metadata": {},
   "outputs": [],
   "source": [
    "%matplotlib inline\n",
    "kernels_LA.plot_kernels(model=model, plot_Fresnel_zone=False, source=src_S, receiver=rec)"
   ]
  },
  {
   "cell_type": "markdown",
   "metadata": {},
   "source": [
    "* **Bonus Question E**: analyse the pattern of the sensitivity above. What are the main differences between the sensitivities to the different parameters that you see here? Think back to the beginning of this practical where we looked at the geometry of sources and receivers. What are the waves contributing to this part of the seismogram, and how does it explain the pattern of sensitivities for the different parameters that you see?"
   ]
  }
 ],
 "metadata": {
  "kernelspec": {
   "display_name": "Python 3",
   "language": "python",
   "name": "python3"
  },
  "language_info": {
   "codemirror_mode": {
    "name": "ipython",
    "version": 3
   },
   "file_extension": ".py",
   "mimetype": "text/x-python",
   "name": "python",
   "nbconvert_exporter": "python",
   "pygments_lexer": "ipython3",
   "version": "3.6.11"
  }
 },
 "nbformat": 4,
 "nbformat_minor": 2
}
